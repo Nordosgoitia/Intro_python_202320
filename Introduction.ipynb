{
  "nbformat": 4,
  "nbformat_minor": 0,
  "metadata": {
    "colab": {
      "provenance": [],
      "authorship_tag": "ABX9TyPjJOtFk3VP2zM9N7SV+O+y",
      "include_colab_link": true
    },
    "kernelspec": {
      "name": "python3",
      "display_name": "Python 3"
    },
    "language_info": {
      "name": "python"
    }
  },
  "cells": [
    {
      "cell_type": "markdown",
      "metadata": {
        "id": "view-in-github",
        "colab_type": "text"
      },
      "source": [
        "<a href=\"https://colab.research.google.com/github/Nordosgoitia/Intro_python_202320/blob/main/Introduction.ipynb\" target=\"_parent\"><img src=\"https://colab.research.google.com/assets/colab-badge.svg\" alt=\"Open In Colab\"/></a>"
      ]
    },
    {
      "cell_type": "markdown",
      "source": [
        "# Introduccion a Phyton\n",
        "## Curso de Programacion y Algoritmia UPB 202320\n",
        "- Nombre: Nataly Ordosgoitia\n",
        "- ID: 000499003\n",
        "- Email: Nataly.ordosgoitia@upb.edu.co\n",
        "\n",
        "Esta es la expresion de la linea recta\n",
        "$$y = mx + b$$\n",
        "\n",
        "donde $x$ es la posicion\n"
      ],
      "metadata": {
        "id": "r_QYJP9BFjH2"
      }
    },
    {
      "cell_type": "code",
      "execution_count": null,
      "metadata": {
        "id": "FJ1v9LKXEOYN"
      },
      "outputs": [],
      "source": []
    },
    {
      "cell_type": "code",
      "source": [],
      "metadata": {
        "id": "tPcr0vEVIF26"
      },
      "execution_count": null,
      "outputs": []
    }
  ]
}