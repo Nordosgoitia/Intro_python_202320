{
  "nbformat": 4,
  "nbformat_minor": 0,
  "metadata": {
    "colab": {
      "provenance": [],
      "authorship_tag": "ABX9TyOThWVFvjWvF+bKRdiqizCi",
      "include_colab_link": true
    },
    "kernelspec": {
      "name": "python3",
      "display_name": "Python 3"
    },
    "language_info": {
      "name": "python"
    }
  },
  "cells": [
    {
      "cell_type": "markdown",
      "metadata": {
        "id": "view-in-github",
        "colab_type": "text"
      },
      "source": [
        "<a href=\"https://colab.research.google.com/github/Nordosgoitia/Intro_python_202320/blob/main/Introduction.ipynb\" target=\"_parent\"><img src=\"https://colab.research.google.com/assets/colab-badge.svg\" alt=\"Open In Colab\"/></a>"
      ]
    },
    {
      "cell_type": "markdown",
      "source": [
        "# Introduccion a Phyton\n",
        "## Curso de Programacion y Algoritmia UPB 202320\n",
        "- Nombre: Nataly Ordosgoitia\n",
        "- ID: 000499003\n",
        "- Email: Nataly.ordosgoitia@upb.edu.co\n",
        "\n",
        "Esta es la expresion de la linea recta\n",
        "$$y = mx + b$$\n",
        "\n",
        "donde $x$ es la posicion\n"
      ],
      "metadata": {
        "id": "r_QYJP9BFjH2"
      }
    },
    {
      "cell_type": "code",
      "execution_count": 2,
      "metadata": {
        "colab": {
          "base_uri": "https://localhost:8080/"
        },
        "id": "FJ1v9LKXEOYN",
        "outputId": "c1bdc6e9-4975-421c-cb97-152c32e21e18"
      },
      "outputs": [
        {
          "output_type": "stream",
          "name": "stdout",
          "text": [
            "mi nombre es, Nataly Ordosgoitia y tengo, 17años Vivo en, Monteria y me gusta la, Hamburguesa\n"
          ]
        }
      ],
      "source": [
        "# Mis primeras lineas de codigo en python\n",
        "\n",
        "firstname = \"Nataly\"\n",
        "lastname = \"Ordosgoitia\"\n",
        "age = \"17años\"\n",
        "city = \"Monteria\"\n",
        "food = \"Hamburguesa\"\n",
        "print(\"mi nombre es,\", firstname,lastname, \"y tengo,\", age, \"Vivo en,\", city, \"y me gusta la,\", food)\n",
        "\n"
      ]
    },
    {
      "cell_type": "code",
      "source": [
        "a = 3\n",
        "b = 4.5\n",
        "c = a + b\n",
        "print(type(a))\n",
        "print(type(b))\n",
        "print(c)\n",
        "c = c * a\n",
        "print(c)\n",
        "c = int(c / b)\n",
        "print(c)\n",
        "d = 0.3\n",
        "c += 0.3\n",
        "print(c)\n",
        "\n"
      ],
      "metadata": {
        "id": "tPcr0vEVIF26",
        "outputId": "28ae8590-0530-49e0-fa3b-ac8e17d76531",
        "colab": {
          "base_uri": "https://localhost:8080/"
        }
      },
      "execution_count": 16,
      "outputs": [
        {
          "output_type": "stream",
          "name": "stdout",
          "text": [
            "<class 'int'>\n",
            "<class 'float'>\n",
            "7.5\n",
            "22.5\n",
            "5\n",
            "5.3\n"
          ]
        }
      ]
    },
    {
      "cell_type": "code",
      "source": [
        "m = 5\n",
        "b = 2\n",
        "x = -3\n",
        "y = m * x + b\n",
        "print(y)\n",
        "x = -2\n",
        "y = m * x + b\n",
        "print(y)\n",
        "x = -1\n",
        "y = m * x + b\n",
        "print(y)\n",
        "x = 0\n",
        "y = m * x + b\n",
        "print(y)\n",
        "x = 1\n",
        "y = m * x + b\n",
        "print(y)\n",
        "x = 2\n",
        "y = m * x + b\n",
        "print(y)\n",
        "x = 3\n",
        "y = m * x + b\n",
        "print(y)"
      ],
      "metadata": {
        "id": "t4TzRqtTaEoM",
        "outputId": "a61b3a4e-4bea-4f40-e3e0-234447a32557",
        "colab": {
          "base_uri": "https://localhost:8080/"
        }
      },
      "execution_count": 23,
      "outputs": [
        {
          "output_type": "stream",
          "name": "stdout",
          "text": [
            "-13\n",
            "-8\n",
            "-3\n",
            "2\n",
            "7\n",
            "12\n",
            "17\n"
          ]
        }
      ]
    },
    {
      "cell_type": "code",
      "source": [
        "a = 1\n",
        "b = 2\n",
        "c = -8\n",
        "disc = (b ** 2 - 4 * a * c) ** (0.5)\n",
        "x_p = (-b + disc) / (2 * a)\n",
        "x_n = (-b - disc) / (2 * a)\n",
        "print(\"x_p:\" , x_p)\n",
        "print(\"x_n:\" , x_n)\n",
        "print(\"-\" * 10)\n",
        "a = -3\n",
        "b = -1\n",
        "c = 10\n",
        "disc = (b ** 2 - 4 * a * c) ** (0.5)\n",
        "x_p = (-b + disc) / (2 * a)\n",
        "x_n = (-b - disc) / (2 * a)\n",
        "print(\"x_p:\" , x_p)\n",
        "print(\"x_n:\" , x_n)\n",
        "print(\"-\" * 10)\n",
        "a = 0.1\n",
        "b = -2\n",
        "c = 0.5\n",
        "disc = (b ** 2 - 4 * a * c) ** (0.5)\n",
        "x_p = (-b + disc) / (2 * a)\n",
        "x_n = (-b - disc) / (2 * a)\n",
        "print(\"x_p:\" , x_p)\n",
        "print(\"x_n:\" , x_n)\n",
        "print(\"-\" * 10)\n",
        "\n"
      ],
      "metadata": {
        "id": "1URK2-bed5Yp",
        "outputId": "931f5c1b-dca9-4e77-b56c-b85aaf70007b",
        "colab": {
          "base_uri": "https://localhost:8080/"
        }
      },
      "execution_count": 40,
      "outputs": [
        {
          "output_type": "stream",
          "name": "stdout",
          "text": [
            "x_p: 2.0\n",
            "x_n: -4.0\n",
            "----------\n",
            "x_p: -2.0\n",
            "x_n: 1.6666666666666667\n",
            "----------\n",
            "x_p: 19.74679434480896\n",
            "x_n: 0.25320565519103666\n",
            "----------\n"
          ]
        }
      ]
    },
    {
      "cell_type": "code",
      "source": [
        "firstname = \"Nataly\"\n",
        "lastname = \"Ordosgoitia\"\n",
        "fullname = firstname + \" \" + lastname\n",
        "print(fullname)"
      ],
      "metadata": {
        "id": "Q1ahOaXdgBnc",
        "outputId": "02eec063-57e2-4b4a-f26b-4ea724ba9523",
        "colab": {
          "base_uri": "https://localhost:8080/"
        }
      },
      "execution_count": 41,
      "outputs": [
        {
          "output_type": "stream",
          "name": "stdout",
          "text": [
            "Nataly Ordosgoitia\n"
          ]
        }
      ]
    },
    {
      "cell_type": "code",
      "source": [
        "song = \"\"\"Un elefante se balanceaba\n",
        "sobre la tela de una araña\n",
        "como veia que resistia\n",
        "se fue a buscar otra...no se.\"\"\"\n",
        "print(song)\n"
      ],
      "metadata": {
        "id": "BX4_pxCnl_Wc",
        "outputId": "389e1d53-27bb-4b8d-ae58-c1bf30cab9b6",
        "colab": {
          "base_uri": "https://localhost:8080/"
        }
      },
      "execution_count": 47,
      "outputs": [
        {
          "output_type": "stream",
          "name": "stdout",
          "text": [
            "Un elefante se balanceaba \n",
            "sobre la tela de una araña \n",
            "como veia que resistia \n",
            "se fue a buscar otra...no se.\n"
          ]
        }
      ]
    },
    {
      "cell_type": "code",
      "source": [
        "a = 11\n",
        "b = 18\n",
        "print(a == b)\n",
        "print(a !=b)\n",
        "print(a > b)\n",
        "print(a < b)\n",
        "print((a == b) and (b + 3 > 5))\n",
        "print((a == b) or (b + 3 > 5))\n",
        "print(not (a == b))"
      ],
      "metadata": {
        "id": "2IARP8LWmia2",
        "outputId": "893e6f9a-8717-401c-9c0f-18af541cd79f",
        "colab": {
          "base_uri": "https://localhost:8080/"
        }
      },
      "execution_count": 46,
      "outputs": [
        {
          "output_type": "stream",
          "name": "stdout",
          "text": [
            "False\n",
            "True\n",
            "False\n",
            "True\n",
            "False\n",
            "True\n",
            "True\n"
          ]
        }
      ]
    },
    {
      "cell_type": "code",
      "source": [],
      "metadata": {
        "id": "3LiF1I4Vmim7"
      },
      "execution_count": null,
      "outputs": []
    }
  ]
}