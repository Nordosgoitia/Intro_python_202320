{
  "nbformat": 4,
  "nbformat_minor": 0,
  "metadata": {
    "colab": {
      "provenance": [],
      "authorship_tag": "ABX9TyPnHdvO/aRlrHl0mdzfma13",
      "include_colab_link": true
    },
    "kernelspec": {
      "name": "python3",
      "display_name": "Python 3"
    },
    "language_info": {
      "name": "python"
    }
  },
  "cells": [
    {
      "cell_type": "markdown",
      "metadata": {
        "id": "view-in-github",
        "colab_type": "text"
      },
      "source": [
        "<a href=\"https://colab.research.google.com/github/Nordosgoitia/Intro_python_202320/blob/main/Introduction.ipynb\" target=\"_parent\"><img src=\"https://colab.research.google.com/assets/colab-badge.svg\" alt=\"Open In Colab\"/></a>"
      ]
    },
    {
      "cell_type": "markdown",
      "source": [
        "# Introduccion a Phyton\n",
        "## Curso de Programacion y Algoritmia UPB 202320\n",
        "- Nombre: Nataly Ordosgoitia\n",
        "- ID: 000499003\n",
        "- Email: Nataly.ordosgoitia@upb.edu.co\n",
        "\n",
        "Esta es la expresion de la linea recta\n",
        "$$y = mx + b$$\n",
        "\n",
        "donde $x$ es la posicion\n"
      ],
      "metadata": {
        "id": "r_QYJP9BFjH2"
      }
    },
    {
      "cell_type": "code",
      "execution_count": 21,
      "metadata": {
        "colab": {
          "base_uri": "https://localhost:8080/"
        },
        "id": "FJ1v9LKXEOYN",
        "outputId": "26211353-e9fe-4b91-94f1-a4eccd44be93"
      },
      "outputs": [
        {
          "output_type": "stream",
          "name": "stdout",
          "text": [
            "mi nombre es, Nataly Ordosgoitia y tengo, 17años Vivo en, Monteria y me gusta la, Hamburguesa\n"
          ]
        }
      ],
      "source": [
        "# Mis primeras lineas de codigo en python\n",
        "\n",
        "firstname = \"Nataly\"\n",
        "lastname = \"Ordosgoitia\"\n",
        "age = \"17años\"\n",
        "city = \"Monteria\"\n",
        "food = \"Hamburguesa\"\n",
        "print(\"mi nombre es,\", firstname,lastname, \"y tengo,\", age, \"Vivo en,\", city, \"y me gusta la,\", food)\n",
        "\n"
      ]
    },
    {
      "cell_type": "code",
      "source": [],
      "metadata": {
        "id": "tPcr0vEVIF26"
      },
      "execution_count": null,
      "outputs": []
    }
  ]
}